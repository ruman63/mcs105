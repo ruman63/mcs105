{
 "cells": [
  {
   "cell_type": "markdown",
   "metadata": {},
   "source": [
    "### Housing Price Model"
   ]
  },
  {
   "cell_type": "code",
   "execution_count": 25,
   "metadata": {},
   "outputs": [
    {
     "data": {
      "text/plain": [
       "array([[983010.66596067]])"
      ]
     },
     "execution_count": 25,
     "metadata": {},
     "output_type": "execute_result"
    }
   ],
   "source": [
    "import pandas as pd\n",
    "import numpy as np\n",
    "from sklearn.linear_model import LinearRegression\n",
    "\n",
    "data = pd.read_csv('housingPrice.csv')\n",
    "x = data[[\"Area\", \"Rooms\"]].values\n",
    "y = data[[\"Price\"]].values\n",
    "model = LinearRegression()\n",
    "model.fit(x, y)\n",
    "model.predict([[1200, 4]])"
   ]
  },
  {
   "cell_type": "markdown",
   "metadata": {},
   "source": [
    "### Breast Cancer Dataset"
   ]
  },
  {
   "cell_type": "code",
   "execution_count": 16,
   "metadata": {},
   "outputs": [
    {
     "data": {
      "text/plain": [
       "95.95782073813707"
      ]
     },
     "execution_count": 16,
     "metadata": {},
     "output_type": "execute_result"
    }
   ],
   "source": [
    "from sklearn.linear_model import LogisticRegression\n",
    "from sklearn.datasets import load_breast_cancer as cancer_data\n",
    "\n",
    "\n",
    "data = cancer_data()\n",
    "X = data.data\n",
    "Y = data.target\n",
    "\n",
    "model = LogisticRegression()\n",
    "model.fit(X, Y)\n",
    "y_predicted = model.predict(X)\n",
    "model.score(X, Y)*100\n"
   ]
  },
  {
   "cell_type": "code",
   "execution_count": 18,
   "metadata": {},
   "outputs": [
    {
     "name": "stdout",
     "output_type": "stream",
     "text": [
      "LogisticRegression 90.625\n",
      "OneVsRestClassifier 93.75\n"
     ]
    }
   ],
   "source": [
    "from sklearn.datasets import fetch_olivetti_faces\n",
    "from sklearn.multiclass import OneVsRestClassifier\n",
    "from sklearn.svm import LinearSVC\n",
    "from sklearn.linear_model import LogisticRegression\n",
    "import random\n",
    "import math\n",
    "\n",
    "data = fetch_olivetti_faces()\n",
    "\n",
    "X = data.data\n",
    "Y = data.target\n",
    "n_train = math.ceil(len(X)*60/100)\n",
    "\n",
    "train_indices = random.sample(range(0, len(X)), n_train)\n",
    "test_indices = [ i for i in range(0, len(X)) if i not in train_indices ]\n",
    "\n",
    "model = LogisticRegression()\n",
    "model.fit(X[train_indices],Y[train_indices])\n",
    "print(\"LogisticRegression\", model.score(X[test_indices],Y[test_indices])*100)\n",
    "\n",
    "classifier = OneVsRestClassifier(LinearSVC(random_state=0))\n",
    "classifier.fit(X[train_indices],Y[train_indices])\n",
    "print(\"OneVsRestClassifier\", classifier.score(X[test_indices],Y[test_indices])*100 )\n",
    "\n",
    "\n"
   ]
  }
 ],
 "metadata": {
  "kernelspec": {
   "display_name": "Python 3",
   "language": "python",
   "name": "python3"
  },
  "language_info": {
   "codemirror_mode": {
    "name": "ipython",
    "version": 3
   },
   "file_extension": ".py",
   "mimetype": "text/x-python",
   "name": "python",
   "nbconvert_exporter": "python",
   "pygments_lexer": "ipython3",
   "version": "3.6.5"
  }
 },
 "nbformat": 4,
 "nbformat_minor": 2
}
