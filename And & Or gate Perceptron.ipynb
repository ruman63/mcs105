{
 "cells": [
  {
   "cell_type": "markdown",
   "metadata": {},
   "source": [
    "# Perceptron Implementation"
   ]
  },
  {
   "cell_type": "code",
   "execution_count": null,
   "metadata": {},
   "outputs": [],
   "source": [
    "import numpy as np\n",
    "import pandas as pd\n",
    "import sklearn\n",
    "from sklearn.linear_model import Perceptron\n",
    "x = np.array([ [0], [1] ])\n",
    "y = np.array([1, 0])\n",
    "model = Perceptron()\n",
    "model.fit(x, y)\n",
    "print('Output: %d' % int(model.predict([[1]])))"
   ]
  },
  {
   "cell_type": "code",
   "execution_count": null,
   "metadata": {},
   "outputs": [],
   "source": [
    "import numpy as np\n",
    "arr = np.array([1, 3, 2, 4, 5])\n",
    "print(arr.sort())\n",
    "print(arr[-3:][::-1])"
   ]
  },
  {
   "cell_type": "code",
   "execution_count": null,
   "metadata": {},
   "outputs": [],
   "source": [
    "from matplotlib import pyplot as plt\n",
    "%matplotlib inline\n",
    "\n",
    "import numpy as np\n",
    "\n",
    "class Perceptron(object):\n",
    "\n",
    "    def __init__(self, no_of_inputs, n=100, learning_rate=0.05):\n",
    "        '''\n",
    "        Objective: To initialize data memebers\n",
    "        Input Parameters: s\n",
    "            self - object of type Perceptron\n",
    "            no_of_inputs, epochs, learning_rate - int\n",
    "        Return Value: None\n",
    "        '''\n",
    "        self.epochs = n\n",
    "        self.learning_rate = learning_rate\n",
    "        self.weights = 0.05 * np.random.randn(no_of_inputs + 1)# weights corr to num_inputs + 1 for bias \n",
    "        print(\"Initial values of weights\",self.weights)\n",
    "    def predict(self, inputs):\n",
    "        '''\n",
    "        Objective: To predict the output\n",
    "        Input Parameters: \n",
    "            self - object of type Perceptron\n",
    "            inputs - numpy array\n",
    "        Return Value: Binary\n",
    "        '''\n",
    "        summation = np.dot(self.weights[1:].T, inputs) + self.weights[0]\n",
    "        if summation > 0:\n",
    "          activation = 1\n",
    "        else:\n",
    "          activation = 0            \n",
    "        return activation\n",
    "\n",
    "    def train(self, training_inputs, labels):\n",
    "        '''\n",
    "        Objective: To train the model so as to tune weights\n",
    "        Input Parameters:  \n",
    "                self - object of type Perceptron\n",
    "                training_inputs, labels - np array\n",
    "        Return Value: None\n",
    "        '''\n",
    "        for _ in range(self.epochs):\n",
    "            deltaWeights = np.array([0] * training_inputs.shape[1]).astype('float64')\n",
    "            deltaBias = 0.0\n",
    "            nInstances = training_inputs.shape[0]\n",
    "            for inputs, label in zip(training_inputs, labels):\n",
    "                prediction = self.predict(inputs)\n",
    "                deltaWeights += self.learning_rate * (label - prediction) * inputs\n",
    "                deltaBias += self.learning_rate * (label - prediction)\n",
    "            self.weights[1:] += (1/nInstances)*deltaWeights\n",
    "            self.weights[0] += (1/nInstances)*deltaBias\n",
    "            \n",
    "            \n",
    "            \n",
    "            \n",
    "#        b, w1, w2 = self.weights[0], self.weights[1], self.weights[2]\n",
    "#        x = np.array([i for i in range(-1,3)])\n",
    "#        y = (-1)*(b+w1*x)/w2\n",
    "#        plt.plot(x, y)\n",
    "\n",
    "        \n",
    "                \n"
   ]
  },
  {
   "cell_type": "code",
   "execution_count": null,
   "metadata": {},
   "outputs": [],
   "source": [
    "training_inputs = np.array([ [0, 0], [0, 1], [1, 0], [1, 1] ])\n",
    "labels = np.array([0, 0, 0, 1])\n",
    "for i,j in zip(training_inputs, labels):\n",
    "    print(i, j)\n",
    "    "
   ]
  },
  {
   "cell_type": "code",
   "execution_count": null,
   "metadata": {},
   "outputs": [],
   "source": [
    "a = np.array([[1, 0], [0, 1]])\n",
    "b = np.array([4, 1])\n",
    "np.dot(a, b)"
   ]
  },
  {
   "cell_type": "code",
   "execution_count": null,
   "metadata": {},
   "outputs": [],
   "source": [
    "training_inputs = np.array([ [0, 0], [0, 1], [1, 0], [1, 1] ])\n",
    "labels = np.array([0, 0, 0, 1])\n",
    "#labels = np.array([0, 1, 1, 1])\n",
    "plt.scatter([i for i, j in training_inputs], [j for i, j in training_inputs])\n",
    "\n",
    "perceptron = Perceptron(2)\n",
    "perceptron.train(training_inputs, labels)\n",
    "result = perceptron.predict(np.array([0, 1])) \n",
    "print(\"Output\",result)\n",
    "plt.show()\n"
   ]
  },
  {
   "cell_type": "markdown",
   "metadata": {},
   "source": [
    "# Perceptron XOR Implementation"
   ]
  },
  {
   "cell_type": "code",
   "execution_count": null,
   "metadata": {},
   "outputs": [],
   "source": [
    "def xorPredict(input):\n",
    "    training = np.array([[0,0],[0,1],[1,0],[1,1]])\n",
    "\n",
    "    x_not_y = np.array([0, 1, 0, 0])\n",
    "    y_not_x = np.array([0, 0, 1, 0])\n",
    "    and_output = np.array([0, 1, 1, 1])\n",
    "    x_not_y_perceptron = Perceptron(2)\n",
    "    x_not_y_perceptron.train(training, x_not_y)\n",
    "    y_not_x_perceptron = Perceptron(2)\n",
    "    y_not_x_perceptron.train(training, y_not_x)\n",
    "    \n",
    "    result1 = x_not_y_perceptron.predict(input)\n",
    "    result2 = y_not_x_perceptron.predict(input)\n",
    "    \n",
    "    xoy_perceptron = Perceptron(2)\n",
    "    xoy_perceptron.train(training, and_output)\n",
    "    xoy = xoy_perceptron.predict(np.array([result1, result2]))\n",
    "    \n",
    "    not_perceptron = Perceptron(1)\n",
    "    not_perceptron.train(np.array([[0], [1]]), np.array([1, 0]))\n",
    "    xnor = not_perceptron.predict(xoy)\n",
    "    return xnor\n",
    "\n",
    "inp = np.array([1,0])\n",
    "out = xorPredict(inp)\n",
    "print(\"Input: \")\n",
    "print(inp)\n",
    "print(\"Output: \")\n",
    "print(out)\n"
   ]
  },
  {
   "cell_type": "code",
   "execution_count": 11,
   "metadata": {},
   "outputs": [
    {
     "name": "stdout",
     "output_type": "stream",
     "text": [
      "Rows: 7\n",
      "    *\n",
      "   ***\n",
      "  *****\n",
      " *******\n",
      "  *****\n",
      "   ***\n",
      "    *\n"
     ]
    }
   ],
   "source": [
    "import math\n",
    "n = int(input(\"Rows: \"))\n",
    "mid = math.ceil(n/2)\n",
    "\n",
    "for row in range(0, n):\n",
    "    if(row>=mid):\n",
    "        row = n-row-1\n",
    "    spaces, stars = mid-row, 2*row+1\n",
    "    print(\" \"*spaces + \"*\"*stars)\n",
    "    "
   ]
  },
  {
   "cell_type": "code",
   "execution_count": null,
   "metadata": {},
   "outputs": [],
   "source": []
  }
 ],
 "metadata": {
  "kernelspec": {
   "display_name": "Python 3",
   "language": "python",
   "name": "python3"
  },
  "language_info": {
   "codemirror_mode": {
    "name": "ipython",
    "version": 3
   },
   "file_extension": ".py",
   "mimetype": "text/x-python",
   "name": "python",
   "nbconvert_exporter": "python",
   "pygments_lexer": "ipython3",
   "version": "3.6.5"
  }
 },
 "nbformat": 4,
 "nbformat_minor": 2
}
